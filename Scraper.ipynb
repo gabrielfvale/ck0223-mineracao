{
 "cells": [
  {
   "cell_type": "code",
   "execution_count": null,
   "id": "f51c30c8",
   "metadata": {},
   "outputs": [],
   "source": [
    "import pandas as pd\n",
    "import csv\n",
    "\n",
    "import scrapy\n",
    "import logging\n",
    "import re\n",
    "\n",
    "from scrapy.item import Item, Field\n",
    "from scrapy.crawler import CrawlerRunner\n",
    "from scrapy.exporters import CsvItemExporter\n",
    "from scrapy.crawler import CrawlerProcess\n",
    "from scrapy.utils.project import get_project_settings\n",
    "\n",
    "from crochet import setup, wait_for"
   ]
  },
  {
   "cell_type": "code",
   "execution_count": null,
   "id": "2e603bac",
   "metadata": {},
   "outputs": [],
   "source": [
    "class EditalItem(Item):\n",
    "    date = Field()\n",
    "    tags = Field()\n",
    "    title = Field()\n",
    "    cover = Field()\n",
    "    summary = Field()\n",
    "    results = Field()\n",
    "    pdf = Field()\n",
    "\n",
    "\n",
    "class QuoteAllDialect(csv.excel):\n",
    "    quoting = csv.QUOTE_ALL\n",
    "\n",
    "\n",
    "class QuoteAllCsvItemExporter(CsvItemExporter):\n",
    "    def __init__(self, *args, **kwargs):\n",
    "        kwargs.update({'dialect': QuoteAllDialect})\n",
    "        super(QuoteAllCsvItemExporter, self).__init__(*args, **kwargs)"
   ]
  },
  {
   "cell_type": "code",
   "execution_count": null,
   "id": "44255040",
   "metadata": {},
   "outputs": [],
   "source": [
    "class EditaisSpider(scrapy.Spider):\n",
    "    name = 'secult'\n",
    "    #max_pages = 2\n",
    "    #start_urls = ['http://editais.cultura.ce.gov.br/category/editais/page/%s' % page for page in range(1, max_pages + 1)]\n",
    "    start_urls = ['http://editais.cultura.ce.gov.br/category/editais/']\n",
    "    delimiter = ';'\n",
    "    quotechar = \"'\"\n",
    "    custom_settings = {\n",
    "        'FEEDS': {\n",
    "            'editais.csv': {\n",
    "                'format': 'csv',\n",
    "                'overwrite': True\n",
    "            }\n",
    "        },\n",
    "        'FEED_EXPORT_ENCODING': 'utf-8',\n",
    "        'FEED_EXPORT_FIELDS': ['date', 'tags', 'title', 'cover', 'summary', 'pdf', 'results'],\n",
    "        'FEED_EXPORTERS': {\n",
    "            'csv': '__main__.QuoteAllCsvItemExporter',\n",
    "        }\n",
    "\n",
    "    }\n",
    "\n",
    "\n",
    "    def parse(self, response):\n",
    "        for edital in response.css('article'):\n",
    "            url = edital.xpath('h2/a/@href').get()\n",
    "\n",
    "            # Get date from url\n",
    "            date = url.replace('http://editais.cultura.ce.gov.br/', '').split('/')\n",
    "            # Format date yyyy-mm-dd\n",
    "            date = f'{date[0]}-{date[1]}-{date[2]}'\n",
    "            \n",
    "            item = EditalItem()\n",
    "            item['date'] = date\n",
    "            item['tags'] = edital.xpath('p/a[@rel=\"category tag\"]/text()').extract()\n",
    "\n",
    "            yield scrapy.Request(url, callback=self.parse_edital, meta={'item':item})\n",
    "\n",
    "        # Go to next page\n",
    "        next_page = response.css('div.pagination').xpath('div/a/@href').get()\n",
    "        if next_page is not None :\n",
    "            yield response.follow(next_page, self.parse)\n",
    "\n",
    "\n",
    "    def parse_edital(self, response):\n",
    "        item = response.meta['item']\n",
    "        item['title'] = response.css('h1.entry-title::text').get()\n",
    "        item['cover'] = response.css('article img::attr(\"src\")').get()\n",
    "        item['summary'] = ''.join(response.css('div.et_pb_text_inner ::text').extract()).strip()\n",
    "        item['pdf'] = response.css('a.et_pb_button::attr(\"href\")').get(default='')\n",
    "        item['results'] = response.css('div.et_pb_row.et_pb_row_1 > div.et_pb_column.et_pb_column_1_3.et_pb_column_2.et_pb_css_mix_blend_mode_passthrough > div > div > div.et_pb_blurb_container > div a::attr(\"href\")')[-1].extract()\n",
    "        yield item\n"
   ]
  },
  {
   "cell_type": "code",
   "execution_count": null,
   "id": "140572e3",
   "metadata": {},
   "outputs": [],
   "source": [
    "# Reactor restart\n",
    "setup()\n",
    "@wait_for(100)\n",
    "def run_scraper():\n",
    "    crawler = CrawlerRunner()\n",
    "    d = crawler.crawl(EditaisSpider)\n",
    "    return d"
   ]
  },
  {
   "cell_type": "code",
   "execution_count": null,
   "id": "4798a14a",
   "metadata": {},
   "outputs": [],
   "source": [
    "# Iniciando processo\n",
    "run_scraper()\n",
    "\n",
    "# process = CrawlerProcess()\n",
    "# process.crawl(EditaisSpider)\n",
    "# process.start()"
   ]
  },
  {
   "cell_type": "code",
   "execution_count": null,
   "id": "3e1d2b98",
   "metadata": {},
   "outputs": [],
   "source": [
    "df = pd.read_csv('editais.csv')\n",
    "df"
   ]
  },
  {
   "cell_type": "code",
   "execution_count": null,
   "id": "505f5184",
   "metadata": {},
   "outputs": [],
   "source": [
    "edital_sample = df.sample()\n",
    "edital_sample"
   ]
  }
 ],
 "metadata": {
  "kernelspec": {
   "display_name": "Python 3 (ipykernel)",
   "language": "python",
   "name": "python3"
  },
  "language_info": {
   "codemirror_mode": {
    "name": "ipython",
    "version": 3
   },
   "file_extension": ".py",
   "mimetype": "text/x-python",
   "name": "python",
   "nbconvert_exporter": "python",
   "pygments_lexer": "ipython3",
   "version": "3.9.9"
  }
 },
 "nbformat": 4,
 "nbformat_minor": 5
}
