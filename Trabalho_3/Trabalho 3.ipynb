{
 "cells": [
  {
   "cell_type": "markdown",
   "id": "b1cdd744",
   "metadata": {},
   "source": [
    "## Relação da duração e valor de eventos pagos"
   ]
  },
  {
   "cell_type": "code",
   "execution_count": 254,
   "id": "ad4d58bc",
   "metadata": {},
   "outputs": [],
   "source": [
    "import pandas as pd\n",
    "import numpy as np\n",
    "import matplotlib.pyplot as plt\n",
    "from plotnine import *\n",
    "\n",
    "from sklearn.linear_model import LinearRegression, SGDRegressor, Ridge\n",
    "from sklearn.pipeline import make_pipeline\n",
    "from sklearn.preprocessing import StandardScaler, PolynomialFeatures\n",
    "from sklearn.model_selection import train_test_split\n",
    "from sklearn.metrics import r2_score"
   ]
  },
  {
   "cell_type": "code",
   "execution_count": 189,
   "id": "e55fba1f",
   "metadata": {},
   "outputs": [
    {
     "data": {
      "text/html": [
       "<div>\n",
       "<style scoped>\n",
       "    .dataframe tbody tr th:only-of-type {\n",
       "        vertical-align: middle;\n",
       "    }\n",
       "\n",
       "    .dataframe tbody tr th {\n",
       "        vertical-align: top;\n",
       "    }\n",
       "\n",
       "    .dataframe thead th {\n",
       "        text-align: right;\n",
       "    }\n",
       "</style>\n",
       "<table border=\"1\" class=\"dataframe\">\n",
       "  <thead>\n",
       "    <tr style=\"text-align: right;\">\n",
       "      <th></th>\n",
       "      <th>price</th>\n",
       "      <th>duration</th>\n",
       "      <th>frequency</th>\n",
       "    </tr>\n",
       "  </thead>\n",
       "  <tbody>\n",
       "    <tr>\n",
       "      <th>0</th>\n",
       "      <td>10</td>\n",
       "      <td>3.000000</td>\n",
       "      <td>daily</td>\n",
       "    </tr>\n",
       "    <tr>\n",
       "      <th>1</th>\n",
       "      <td>2</td>\n",
       "      <td>19.000000</td>\n",
       "      <td>once</td>\n",
       "    </tr>\n",
       "    <tr>\n",
       "      <th>2</th>\n",
       "      <td>5</td>\n",
       "      <td>2.000000</td>\n",
       "      <td>once</td>\n",
       "    </tr>\n",
       "    <tr>\n",
       "      <th>3</th>\n",
       "      <td>10</td>\n",
       "      <td>0.666667</td>\n",
       "      <td>weekly</td>\n",
       "    </tr>\n",
       "    <tr>\n",
       "      <th>4</th>\n",
       "      <td>85</td>\n",
       "      <td>9.000000</td>\n",
       "      <td>weekly</td>\n",
       "    </tr>\n",
       "    <tr>\n",
       "      <th>...</th>\n",
       "      <td>...</td>\n",
       "      <td>...</td>\n",
       "      <td>...</td>\n",
       "    </tr>\n",
       "    <tr>\n",
       "      <th>498</th>\n",
       "      <td>10</td>\n",
       "      <td>2.000000</td>\n",
       "      <td>once</td>\n",
       "    </tr>\n",
       "    <tr>\n",
       "      <th>499</th>\n",
       "      <td>15</td>\n",
       "      <td>2.000000</td>\n",
       "      <td>once</td>\n",
       "    </tr>\n",
       "    <tr>\n",
       "      <th>500</th>\n",
       "      <td>10</td>\n",
       "      <td>2.500000</td>\n",
       "      <td>once</td>\n",
       "    </tr>\n",
       "    <tr>\n",
       "      <th>501</th>\n",
       "      <td>15</td>\n",
       "      <td>2.000000</td>\n",
       "      <td>once</td>\n",
       "    </tr>\n",
       "    <tr>\n",
       "      <th>502</th>\n",
       "      <td>10</td>\n",
       "      <td>4.000000</td>\n",
       "      <td>once</td>\n",
       "    </tr>\n",
       "  </tbody>\n",
       "</table>\n",
       "<p>503 rows × 3 columns</p>\n",
       "</div>"
      ],
      "text/plain": [
       "     price   duration frequency\n",
       "0       10   3.000000     daily\n",
       "1        2  19.000000      once\n",
       "2        5   2.000000      once\n",
       "3       10   0.666667    weekly\n",
       "4       85   9.000000    weekly\n",
       "..     ...        ...       ...\n",
       "498     10   2.000000      once\n",
       "499     15   2.000000      once\n",
       "500     10   2.500000      once\n",
       "501     15   2.000000      once\n",
       "502     10   4.000000      once\n",
       "\n",
       "[503 rows x 3 columns]"
      ]
     },
     "execution_count": 189,
     "metadata": {},
     "output_type": "execute_result"
    }
   ],
   "source": [
    "df = pd.read_csv('mapa.csv')\n",
    "df.dropna(inplace=True)\n",
    "df = df[(df['price'] != 0) & (df['duration'] <= 50) & (df['duration'] != 0)]\n",
    "df.reset_index(drop=True, inplace=True)\n",
    "\n",
    "df"
   ]
  },
  {
   "cell_type": "markdown",
   "id": "937eb5c5",
   "metadata": {},
   "source": [
    "### Regressão Linear"
   ]
  },
  {
   "cell_type": "code",
   "execution_count": 190,
   "id": "60bafc11",
   "metadata": {},
   "outputs": [],
   "source": [
    "x = df[['duration']].values\n",
    "y = df['price']"
   ]
  },
  {
   "cell_type": "code",
   "execution_count": 191,
   "id": "9dcc1d23",
   "metadata": {},
   "outputs": [
    {
     "data": {
      "text/plain": [
       "LinearRegression()"
      ]
     },
     "execution_count": 191,
     "metadata": {},
     "output_type": "execute_result"
    }
   ],
   "source": [
    "reg = LinearRegression()\n",
    "reg.fit(x, y)"
   ]
  },
  {
   "cell_type": "code",
   "execution_count": 192,
   "id": "a89c2318",
   "metadata": {},
   "outputs": [
    {
     "data": {
      "text/plain": [
       "(array([3.41981129]), 17.557114922309744)"
      ]
     },
     "execution_count": 192,
     "metadata": {},
     "output_type": "execute_result"
    }
   ],
   "source": [
    "reg.coef_, reg.intercept_"
   ]
  },
  {
   "cell_type": "code",
   "execution_count": 193,
   "id": "b6cbbbd6",
   "metadata": {},
   "outputs": [
    {
     "data": {
      "image/png": "[encoded data removed]",
      "text/plain": [
       "<Figure size 640x480 with 1 Axes>"
      ]
     },
     "metadata": {},
     "output_type": "display_data"
    },
    {
     "data": {
      "text/plain": [
       "<ggplot: (8769049330460)>"
      ]
     },
     "execution_count": 193,
     "metadata": {},
     "output_type": "execute_result"
    }
   ],
   "source": [
    "(ggplot(df,aes('duration', 'price'))\n",
    " + geom_point()\n",
    " + theme_light()\n",
    " + geom_abline(intercept=reg.intercept_, slope=reg.coef_[0], color='red')\n",
    ")"
   ]
  },
  {
   "cell_type": "code",
   "execution_count": 194,
   "id": "d28b79bf",
   "metadata": {},
   "outputs": [
    {
     "data": {
      "text/plain": [
       "array([31.23636007])"
      ]
     },
     "execution_count": 194,
     "metadata": {},
     "output_type": "execute_result"
    }
   ],
   "source": [
    "reg.predict([[4]])"
   ]
  },
  {
   "cell_type": "markdown",
   "id": "44cdb549",
   "metadata": {},
   "source": [
    "### SGD Regressor"
   ]
  },
  {
   "cell_type": "code",
   "execution_count": 195,
   "id": "b895f4ed",
   "metadata": {},
   "outputs": [
    {
     "data": {
      "text/plain": [
       "Pipeline(steps=[('standardscaler', StandardScaler()),\n",
       "                ('sgdregressor', SGDRegressor())])"
      ]
     },
     "execution_count": 195,
     "metadata": {},
     "output_type": "execute_result"
    }
   ],
   "source": [
    "reg2 = make_pipeline(StandardScaler(), SGDRegressor(max_iter=1000, tol=1e-3))\n",
    "reg2.fit(x, y)"
   ]
  },
  {
   "cell_type": "code",
   "execution_count": 196,
   "id": "75080225",
   "metadata": {},
   "outputs": [
    {
     "data": {
      "text/plain": [
       "array([24.55213847, 32.15253636, 47.35333215])"
      ]
     },
     "execution_count": 196,
     "metadata": {},
     "output_type": "execute_result"
    }
   ],
   "source": [
    "reg2.predict([[2], [4], [8]])"
   ]
  },
  {
   "cell_type": "markdown",
   "id": "4a607c02",
   "metadata": {},
   "source": [
    "### Regressão Polinomial"
   ]
  },
  {
   "cell_type": "code",
   "execution_count": 197,
   "id": "70c9423c",
   "metadata": {},
   "outputs": [],
   "source": [
    "x = df['duration']\n",
    "y = df['price']"
   ]
  },
  {
   "cell_type": "code",
   "execution_count": 198,
   "id": "edb8c975",
   "metadata": {},
   "outputs": [
    {
     "data": {
      "text/plain": [
       "array([-8.17287242e-04, -1.12726224e-02,  1.20059596e-01,  5.71761877e+00,\n",
       "        1.35784623e+01])"
      ]
     },
     "execution_count": 198,
     "metadata": {},
     "output_type": "execute_result"
    }
   ],
   "source": [
    "z = np.polyfit(x, y, 4)\n",
    "z"
   ]
  },
  {
   "cell_type": "code",
   "execution_count": 199,
   "id": "b60dffad",
   "metadata": {},
   "outputs": [],
   "source": [
    "p2 = np.poly1d(z)"
   ]
  },
  {
   "cell_type": "code",
   "execution_count": 200,
   "id": "d43aaa26",
   "metadata": {},
   "outputs": [
    {
     "data": {
      "image/png": "[encoded data removed]",
      "text/plain": [
       "<Figure size 432x288 with 1 Axes>"
      ]
     },
     "metadata": {
      "needs_background": "light"
     },
     "output_type": "display_data"
    }
   ],
   "source": [
    "xp = np.linspace(x.min(), x.max(), 100)\n",
    "for i in range(2, 8):\n",
    "    pn = np.poly1d(np.polyfit(x, y, i))\n",
    "    _ = plt.plot(xp, pn(xp), '-', label=f\"degree {i}\")\n",
    "plt.legend(bbox_to_anchor=(1.05, 1.0), loc='upper left')\n",
    "plt.tight_layout()\n",
    "plt.show()"
   ]
  },
  {
   "cell_type": "markdown",
   "id": "38eb4492",
   "metadata": {},
   "source": [
    "## Métricas de avaliação de desempenho"
   ]
  },
  {
   "cell_type": "markdown",
   "id": "768c0f1d",
   "metadata": {},
   "source": [
    "Foi escolhido o **R² (Coeficiente de determinação)** para verificar se o modelo encontrado explica os dados de uma forma melhor que a média."
   ]
  },
  {
   "cell_type": "code",
   "execution_count": 227,
   "id": "c6dfa54a",
   "metadata": {},
   "outputs": [],
   "source": [
    "X = df[['duration']]\n",
    "y = df[['price']]\n",
    "X_train, X_test, y_train, y_test = train_test_split(X, y, test_size=0.33, random_state=42)"
   ]
  },
  {
   "cell_type": "code",
   "execution_count": 228,
   "id": "25697033",
   "metadata": {
    "scrolled": true
   },
   "outputs": [
    {
     "name": "stdout",
     "output_type": "stream",
     "text": [
      "Treinamento, Teste\n",
      "X: (337, 1), (166, 1)\n",
      "Y: (337, 1), (166, 1)\n"
     ]
    }
   ],
   "source": [
    "print(\"Treinamento, Teste\")\n",
    "print(f\"X: {X_train.shape}, {X_test.shape}\")\n",
    "print(f\"Y: {y_train.shape}, {y_test.shape}\")"
   ]
  },
  {
   "cell_type": "markdown",
   "id": "cc766912",
   "metadata": {},
   "source": [
    "### Avaliando Regressão Linear"
   ]
  },
  {
   "cell_type": "code",
   "execution_count": 240,
   "id": "5b252794",
   "metadata": {},
   "outputs": [
    {
     "data": {
      "text/plain": [
       "LinearRegression()"
      ]
     },
     "execution_count": 240,
     "metadata": {},
     "output_type": "execute_result"
    }
   ],
   "source": [
    "reg.fit(X_train, y_train)"
   ]
  },
  {
   "cell_type": "code",
   "execution_count": 241,
   "id": "d4a48705",
   "metadata": {},
   "outputs": [
    {
     "data": {
      "text/plain": [
       "(166, 1)"
      ]
     },
     "execution_count": 241,
     "metadata": {},
     "output_type": "execute_result"
    }
   ],
   "source": [
    "y_pred = reg.predict(X_test)\n",
    "y_pred.shape"
   ]
  },
  {
   "cell_type": "code",
   "execution_count": 242,
   "id": "76b51557",
   "metadata": {},
   "outputs": [
    {
     "name": "stdout",
     "output_type": "stream",
     "text": [
      "-0.0554025760041843\n"
     ]
    }
   ],
   "source": [
    "print(r2_score(y_test, y_pred))"
   ]
  },
  {
   "cell_type": "markdown",
   "id": "d7722605",
   "metadata": {},
   "source": [
    "### Avaliando SGD Regressor"
   ]
  },
  {
   "cell_type": "code",
   "execution_count": 243,
   "id": "574b601b",
   "metadata": {},
   "outputs": [
    {
     "data": {
      "text/plain": [
       "Pipeline(steps=[('standardscaler', StandardScaler()),\n",
       "                ('sgdregressor', SGDRegressor())])"
      ]
     },
     "execution_count": 243,
     "metadata": {},
     "output_type": "execute_result"
    }
   ],
   "source": [
    "reg2.fit(X_train, y_train.values.ravel())"
   ]
  },
  {
   "cell_type": "code",
   "execution_count": 248,
   "id": "25493664",
   "metadata": {},
   "outputs": [
    {
     "data": {
      "text/plain": [
       "(166,)"
      ]
     },
     "execution_count": 248,
     "metadata": {},
     "output_type": "execute_result"
    }
   ],
   "source": [
    "y_pred = reg2.predict(X_test)\n",
    "y_pred.shape"
   ]
  },
  {
   "cell_type": "code",
   "execution_count": 253,
   "id": "fe486ecb",
   "metadata": {},
   "outputs": [
    {
     "name": "stdout",
     "output_type": "stream",
     "text": [
      "-0.049544941519072294\n"
     ]
    }
   ],
   "source": [
    "print(r2_score(y_test, y_pred))"
   ]
  },
  {
   "cell_type": "markdown",
   "id": "896693ba",
   "metadata": {},
   "source": [
    "### Avaliando Regressão Polinomial"
   ]
  },
  {
   "cell_type": "code",
   "execution_count": 256,
   "id": "bf92301d",
   "metadata": {},
   "outputs": [
    {
     "name": "stdout",
     "output_type": "stream",
     "text": [
      "-0.16102267513506674\n",
      "-0.16104496276615277\n",
      "-0.30320938082116067\n",
      "-0.5173309921281459\n",
      "-0.6794296349007092\n"
     ]
    }
   ],
   "source": [
    "for count, degree in enumerate([3, 4, 5, 7, 8]):\n",
    "    model = make_pipeline(PolynomialFeatures(degree), Ridge(0))\n",
    "    model.fit(X_train, y_train)\n",
    "    y_pred = model.predict(X_test)\n",
    "    print(r2_score(y_test, y_pred))"
   ]
  },
  {
   "cell_type": "code",
   "execution_count": null,
   "id": "722cabb3",
   "metadata": {},
   "outputs": [],
   "source": []
  }
 ],
 "metadata": {
  "kernelspec": {
   "display_name": "Python 3 (ipykernel)",
   "language": "python",
   "name": "python3"
  },
  "language_info": {
   "codemirror_mode": {
    "name": "ipython",
    "version": 3
   },
   "file_extension": ".py",
   "mimetype": "text/x-python",
   "name": "python",
   "nbconvert_exporter": "python",
   "pygments_lexer": "ipython3",
   "version": "3.10.2"
  }
 },
 "nbformat": 4,
 "nbformat_minor": 5
}
